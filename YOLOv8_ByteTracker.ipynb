{
 "nbformat": 4,
 "nbformat_minor": 0,
 "metadata": {
  "colab": {
   "provenance": [],
   "gpuType": "T4"
  },
  "kernelspec": {
   "name": "python3",
   "display_name": "Python 3"
  },
  "language_info": {
   "name": "python"
  },
  "accelerator": "GPU"
 },
 "cells": [
  {
   "cell_type": "code",
   "execution_count": 1,
   "metadata": {
    "id": "60u1uN4HHmQa",
    "outputId": "9394940c-951b-4614-8e7f-83482a02a736",
    "colab": {
     "base_uri": "https://localhost:8080/"
    }
   },
   "outputs": [
    {
     "output_type": "stream",
     "name": "stdout",
     "text": [
      "Tue Dec 19 01:04:26 2023       \n",
      "+---------------------------------------------------------------------------------------+\n",
      "| NVIDIA-SMI 535.104.05             Driver Version: 535.104.05   CUDA Version: 12.2     |\n",
      "|-----------------------------------------+----------------------+----------------------+\n",
      "| GPU  Name                 Persistence-M | Bus-Id        Disp.A | Volatile Uncorr. ECC |\n",
      "| Fan  Temp   Perf          Pwr:Usage/Cap |         Memory-Usage | GPU-Util  Compute M. |\n",
      "|                                         |                      |               MIG M. |\n",
      "|=========================================+======================+======================|\n",
      "|   0  Tesla T4                       Off | 00000000:00:04.0 Off |                    0 |\n",
      "| N/A   44C    P8               9W /  70W |      0MiB / 15360MiB |      0%      Default |\n",
      "|                                         |                      |                  N/A |\n",
      "+-----------------------------------------+----------------------+----------------------+\n",
      "                                                                                         \n",
      "+---------------------------------------------------------------------------------------+\n",
      "| Processes:                                                                            |\n",
      "|  GPU   GI   CI        PID   Type   Process name                            GPU Memory |\n",
      "|        ID   ID                                                             Usage      |\n",
      "|=======================================================================================|\n",
      "|  No running processes found                                                           |\n",
      "+---------------------------------------------------------------------------------------+\n"
     ]
    }
   ],
   "source": [
    "!nvidia-smi"
   ]
  },
  {
   "cell_type": "code",
   "source": [
    "from google.colab import drive\n",
    "drive.mount('/content/drive')"
   ],
   "metadata": {
    "id": "R0dvw5sBpsax",
    "outputId": "40483445-5ff5-4570-b53c-a36100d26c12",
    "colab": {
     "base_uri": "https://localhost:8080/"
    }
   },
   "execution_count": 1,
   "outputs": [
    {
     "output_type": "stream",
     "name": "stdout",
     "text": [
      "Mounted at /content/drive\n"
     ]
    }
   ]
  },
  {
   "cell_type": "code",
   "source": [
    "import os\n",
    "from pathlib import Path\n",
    "\n",
    "HOME = os.getcwd()\n",
    "\n",
    "# The name for the project\n",
    "PROJECT_NAME = f\"Tracker\"\n",
    "\n",
    "# The path for the project folder\n",
    "PROJECT_DIR = Path(f\"./{PROJECT_NAME}\")\n",
    "\n",
    "# Create the project directory if it does not already exist\n",
    "PROJECT_DIR.mkdir(parents=True, exist_ok=True)\n",
    "\n",
    "%cd {PROJECT_DIR}\n",
    "\n",
    "# Default GOOGLE DRIVE\n",
    "GDRIVE_VID_PATH = f\"/content/drive/MyDrive/detect_human/Samples\""
   ],
   "metadata": {
    "colab": {
     "base_uri": "https://localhost:8080/"
    },
    "id": "gSmcPMXqIlXM",
    "outputId": "371ae960-1c9f-4c73-f98f-3a77183676cc"
   },
   "execution_count": 2,
   "outputs": [
    {
     "output_type": "stream",
     "name": "stdout",
     "text": [
      "/content/Tracker\n"
     ]
    }
   ]
  },
  {
   "cell_type": "code",
   "source": [
    "!gdown \"https://drive.google.com/uc?id=1D8HO3ina1HXOIrZpyJ4gpRgBPZlssmmK&confirm=t\"\n",
    "!gdown \"https://drive.google.com/uc?id=1yqUPkFXFF_5AOi6QaMxyonGazA-Fe9tN&confirm=t\"\n",
    "!gdown \"https://drive.google.com/uc?id=1LZ_uasbiu7nZbo8Mef5zAxJjfxyWrCZW&confirm=t\""
   ],
   "metadata": {
    "id": "WzgF-L5ELY-l",
    "colab": {
     "base_uri": "https://localhost:8080/"
    },
    "outputId": "0766a909-ea99-417a-cf01-4ec530274004"
   },
   "execution_count": 3,
   "outputs": [
    {
     "output_type": "stream",
     "name": "stdout",
     "text": [
      "Downloading...\n",
      "From: https://drive.google.com/uc?id=1D8HO3ina1HXOIrZpyJ4gpRgBPZlssmmK&confirm=t\n",
      "To: /content/Tracker/++_01_Cam01_20171223132726_300__K1S2.mp4\n",
      "100% 131M/131M [00:01<00:00, 105MB/s]\n",
      "Downloading...\n",
      "From: https://drive.google.com/uc?id=1yqUPkFXFF_5AOi6QaMxyonGazA-Fe9tN&confirm=t\n",
      "To: /content/Tracker/best_yolov8m_200.pt\n",
      "100% 52.1M/52.1M [00:00<00:00, 132MB/s]\n",
      "Downloading...\n",
      "From: https://drive.google.com/uc?id=1LZ_uasbiu7nZbo8Mef5zAxJjfxyWrCZW&confirm=t\n",
      "To: /content/Tracker/best_yolov8m_59000.pt\n",
      "100% 52.0M/52.0M [00:00<00:00, 97.8MB/s]\n"
     ]
    }
   ]
  },
  {
   "cell_type": "code",
   "source": [
    "SOURCE_VIDEO_PATH = f\"{HOME}/{PROJECT_NAME}/test.mp4\""
   ],
   "metadata": {
    "id": "vwUqOuLpMNpx"
   },
   "execution_count": 4,
   "outputs": []
  },
  {
   "cell_type": "code",
   "source": [
    "!pip install ultralytics\n",
    "\n",
    "from IPython import display\n",
    "display.clear_output()\n",
    "\n",
    "import ultralytics\n",
    "ultralytics.checks()"
   ],
   "metadata": {
    "colab": {
     "base_uri": "https://localhost:8080/"
    },
    "id": "BKJlxS-8LkR6",
    "outputId": "f53dc7ba-d13f-43c7-dd3c-057b5555ecff"
   },
   "execution_count": 5,
   "outputs": [
    {
     "output_type": "stream",
     "name": "stdout",
     "text": [
      "Ultralytics YOLOv8.0.227 🚀 Python-3.10.12 torch-2.1.0+cu121 CUDA:0 (Tesla T4, 15102MiB)\n",
      "Setup complete ✅ (2 CPUs, 12.7 GB RAM, 26.4/166.8 GB disk)\n"
     ]
    }
   ]
  },
  {
   "cell_type": "code",
   "source": [
    " %cd {HOME}\n",
    " !git clone https://github.com/ifzhang/ByteTrack.git\n",
    " !cd ByteTrack && pip install -q -r requirements.txt\n",
    " !cd ByteTrack && python setup.py -q develop\n",
    " !pip install -q cython_bbox\n",
    " !pip install -q onemetric\n",
    " !pip install loguru lap"
   ],
   "metadata": {
    "id": "RHPx8ub_MnKo"
   },
   "execution_count": null,
   "outputs": []
  },
  {
   "cell_type": "code",
   "source": [
    "import sys\n",
    "sys.path.append(f\"{HOME}/ByteTrack\")"
   ],
   "metadata": {
    "id": "8-knEAItO0Bu"
   },
   "execution_count": 7,
   "outputs": []
  },
  {
   "cell_type": "code",
   "source": [
    "import yolox\n",
    "print(\"yolox.__version__:{}\".format(yolox.__version__))"
   ],
   "metadata": {
    "id": "IKpNS6jyO2a-",
    "outputId": "b71aea52-a307-4f66-cb68-14f27d6084ec",
    "colab": {
     "base_uri": "https://localhost:8080/"
    }
   },
   "execution_count": 8,
   "outputs": [
    {
     "output_type": "stream",
     "name": "stdout",
     "text": [
      "yolox.__version__:0.1.0\n"
     ]
    }
   ]
  },
  {
   "cell_type": "code",
   "source": [
    "from yolox.tracker.byte_tracker import BYTETracker, STrack\n",
    "from onemetric.cv.utils.iou import box_iou_batch\n",
    "from dataclasses import dataclass\n",
    "\n",
    "@dataclass(frozen=True)\n",
    "class BYTETrackerArgs:\n",
    "  track_thresh: float = 0.25\n",
    "  track_buffer: int = 90\n",
    "  # match_trhesh: float = 0.8\n",
    "  aspect_ratio_thresh:float = 3.0\n",
    "  min_box_area: float = 1.0\n",
    "  mot20: bool = False"
   ],
   "metadata": {
    "id": "znMk6XJAPJo3"
   },
   "execution_count": 9,
   "outputs": []
  },
  {
   "cell_type": "code",
   "source": [
    "!pip install supervision==0.1.0\n",
    "\n",
    "display.clear_output()\n",
    "\n",
    "import supervision\n",
    "print(\"supervision.__version__:{}\".format(supervision.__version__))"
   ],
   "metadata": {
    "id": "NMMF0-u6PiV9",
    "colab": {
     "base_uri": "https://localhost:8080/"
    },
    "outputId": "a1ae38b0-7654-4bfb-c75f-3490fabc5d0e"
   },
   "execution_count": 10,
   "outputs": [
    {
     "output_type": "stream",
     "name": "stdout",
     "text": [
      "supervision.__version__:0.1.0\n"
     ]
    }
   ]
  },
  {
   "cell_type": "code",
   "source": [
    "MODEL = \"best_yolov8m_59000.pt\""
   ],
   "metadata": {
    "id": "2J9XZ5wcRFLC"
   },
   "execution_count": 11,
   "outputs": []
  },
  {
   "cell_type": "code",
   "source": [
    "from ultralytics import YOLO\n",
    "\n",
    "model = YOLO(f\"{HOME}/{PROJECT_NAME}/{MODEL}\")\n",
    "model.fuse()"
   ],
   "metadata": {
    "id": "rodU2Ey9Rnzl"
   },
   "execution_count": null,
   "outputs": []
  },
  {
   "cell_type": "code",
   "source": [
    "CLASS_NAMES_DICT = model.names\n",
    "CLASS_NAMES_DICT"
   ],
   "metadata": {
    "id": "kCkY9xHhm103",
    "outputId": "0a9b57e0-fadd-469d-88d7-b1ce5c5867d6",
    "colab": {
     "base_uri": "https://localhost:8080/"
    }
   },
   "execution_count": 13,
   "outputs": [
    {
     "output_type": "execute_result",
     "data": {
      "text/plain": [
       "{0: 'human', 1: 'head'}"
      ]
     },
     "metadata": {},
     "execution_count": 13
    }
   ]
  },
  {
   "cell_type": "code",
   "source": [
    "!yolo task=detect mode=predict model=/content/Tracker/best_yolov8m_200.pt conf=0.25 source=/content/Tracker/frame_0001.jpeg"
   ],
   "metadata": {
    "id": "r22kGbA_R3os"
   },
   "execution_count": null,
   "outputs": []
  },
  {
   "cell_type": "code",
   "source": [
    "!yolo task=detect mode=predict model=/content/Tracker/best_yolov8m_59000.pt conf=0.25 source={SOURCE_VIDEO_PATH}"
   ],
   "metadata": {
    "id": "c-RCkzBJSAXr"
   },
   "execution_count": null,
   "outputs": []
  },
  {
   "cell_type": "code",
   "source": [
    "!cp /content/runs/detect/predict/test.avi /content/drive/MyDrive/Original/result/"
   ],
   "metadata": {
    "id": "7-AXISh8piCm"
   },
   "execution_count": 24,
   "outputs": []
  },
  {
   "cell_type": "code",
   "source": [
    "from typing import Generator\n",
    "\n",
    "import matplotlib.pyplot as plt\n",
    "import numpy as np\n",
    "\n",
    "import cv2\n",
    "\n",
    "%matplotlib inline\n",
    "\n",
    "def generate_frames(video_file: str) -> Generator[np.ndarray, None, None]:\n",
    "  video = cv2.VideoCapture(video_file)\n",
    "\n",
    "  while video.isOpened():\n",
    "    success, frame = video.read()\n",
    "\n",
    "    if not success:\n",
    "      break\n",
    "\n",
    "    yield frame\n",
    "\n",
    "  video.release()\n",
    "\n",
    "def plot_image(image: np.ndarray, size: int = 12) -> None:\n",
    "  plt.figure(figsize=(size, size))\n",
    "  plt.imshow(image[..., ::-1])\n",
    "  plt.show()\n"
   ],
   "metadata": {
    "id": "idtiP2lSUa66"
   },
   "execution_count": 14,
   "outputs": []
  },
  {
   "cell_type": "markdown",
   "source": [],
   "metadata": {
    "collapsed": false
   }
  },
  {
   "cell_type": "code",
   "source": [
    "SOURCE_VIDEO_PATH"
   ],
   "metadata": {
    "colab": {
     "base_uri": "https://localhost:8080/",
     "height": 36
    },
    "id": "qh3F0vGHe03M",
    "outputId": "edf5461d-93ca-4c60-aa13-a242b827ed0d"
   },
   "execution_count": 15,
   "outputs": [
    {
     "output_type": "execute_result",
     "data": {
      "text/plain": [
       "'/content/Tracker/test.mp4'"
      ],
      "application/vnd.google.colaboratory.intrinsic+json": {
       "type": "string"
      }
     },
     "metadata": {},
     "execution_count": 15
    }
   ]
  },
  {
   "cell_type": "code",
   "source": [
    "iterator = iter(generate_frames(video_file=SOURCE_VIDEO_PATH))\n",
    "frame = next(iterator)\n",
    "results = model(frame)[0]"
   ],
   "metadata": {
    "id": "m80eY6YLV9Vi",
    "colab": {
     "base_uri": "https://localhost:8080/"
    },
    "outputId": "3d6cac3c-5a01-456e-f27a-1815380d1ffa"
   },
   "execution_count": 23,
   "outputs": [
    {
     "output_type": "stream",
     "name": "stdout",
     "text": [
      "\n",
      "WARNING ⚠️ NMS time limit 0.550s exceeded\n",
      "0: 384x640 10 humans, 275.4ms\n",
      "Speed: 13.0ms preprocess, 275.4ms inference, 1050.1ms postprocess per image at shape (1, 3, 384, 640)\n"
     ]
    }
   ]
  },
  {
   "cell_type": "code",
   "source": [
    "from supervision.draw.color import ColorPalette, Color\n",
    "from supervision.geometry.dataclasses import Point\n",
    "from supervision.video.dataclasses import VideoInfo\n",
    "from supervision.video.source import get_video_frames_generator\n",
    "from supervision.video.sink import VideoSink\n",
    "from supervision.notebook.utils import show_frame_in_notebook\n",
    "from supervision.tools.detections import Detections, BoxAnnotator\n",
    "from supervision.tools.line_counter import LineCounter, LineCounterAnnotator"
   ],
   "metadata": {
    "id": "ve9f4PzldK1P"
   },
   "execution_count": 16,
   "outputs": []
  },
  {
   "cell_type": "code",
   "source": [
    "from typing import Tuple"
   ],
   "metadata": {
    "id": "vUkTLZ6cjb5q"
   },
   "execution_count": 17,
   "outputs": []
  },
  {
   "cell_type": "code",
   "source": [
    "# green\n",
    "HEAD_HEX = \"#00D4BB\"\n",
    "HEAD_COLOR = Color.from_hex(HEAD_HEX)\n",
    "\n",
    "# yellow\n",
    "PERSON_HEX = \"#FFFF00\"\n",
    "PERSON_COLOR = Color.from_hex(PERSON_HEX)\n",
    "\n",
    "COLORS = [\n",
    "    HEAD_COLOR,\n",
    "    PERSON_COLOR\n",
    "]\n",
    "THICKNESS = 1"
   ],
   "metadata": {
    "id": "SODwthWLk0ED"
   },
   "execution_count": 18,
   "outputs": []
  },
  {
   "cell_type": "code",
   "source": [
    "generator = get_video_frames_generator(SOURCE_VIDEO_PATH)\n",
    "box_annotator = BoxAnnotator(color=HEAD_COLOR, thickness=4, text_thickness=4, text_scale=2)"
   ],
   "metadata": {
    "id": "QucSwa-LhgZM"
   },
   "execution_count": 19,
   "outputs": []
  },
  {
   "cell_type": "code",
   "source": [
    "detections = Detections(\n",
    "  xyxy=results.boxes.xyxy.cpu().numpy(),\n",
    "  confidence=results.boxes.conf.cpu().numpy(),\n",
    "  class_id=results.boxes.cls.cpu().numpy().astype(int)\n",
    ")"
   ],
   "metadata": {
    "id": "9CkR94w0dK31"
   },
   "execution_count": 24,
   "outputs": []
  },
  {
   "cell_type": "code",
   "source": [
    "video_info = VideoInfo.from_video_path(SOURCE_VIDEO_PATH)\n",
    "video_info"
   ],
   "metadata": {
    "colab": {
     "base_uri": "https://localhost:8080/"
    },
    "id": "jM33CK07iPhq",
    "outputId": "eca7a752-2729-405f-dd1e-f8a398ad4b75"
   },
   "execution_count": 25,
   "outputs": [
    {
     "output_type": "execute_result",
     "data": {
      "text/plain": [
       "VideoInfo(width=1280, height=720, fps=25, total_frames=7487)"
      ]
     },
     "metadata": {},
     "execution_count": 25
    }
   ]
  },
  {
   "cell_type": "code",
   "source": [
    "labels = [\n",
    "    f\"{CLASS_NAMES_DICT[class_id]} {confidence:0.2f}\"\n",
    "    for _, confidence, class_id, tracker_id\n",
    "    in detections\n",
    "]"
   ],
   "metadata": {
    "id": "_LtVlv0xdKwy"
   },
   "execution_count": 26,
   "outputs": []
  },
  {
   "cell_type": "code",
   "source": [
    "TARGET_VIDEO_PATH = f\"{HOME}/{PROJECT_NAME}/result.mp4\""
   ],
   "metadata": {
    "id": "DS8VCnNAoI1j"
   },
   "execution_count": 27,
   "outputs": []
  },
  {
   "cell_type": "code",
   "source": [
    "from tqdm.notebook import tqdm\n",
    "from typing import List"
   ],
   "metadata": {
    "id": "y51PCadOoTs9"
   },
   "execution_count": 28,
   "outputs": []
  },
  {
   "cell_type": "code",
   "source": [
    "# converts Detections into format that can be consumed by match_detections_with_tracks function\n",
    "def detections2boxes(detections: Detections) -> np.ndarray:\n",
    "    return np.hstack((\n",
    "        detections.xyxy,\n",
    "        detections.confidence[:, np.newaxis]\n",
    "    ))\n",
    "\n",
    "\n",
    "# converts List[STrack] into format that can be consumed by match_detections_with_tracks function\n",
    "def tracks2boxes(tracks: List[STrack]) -> np.ndarray:\n",
    "    return np.array([\n",
    "        track.tlbr\n",
    "        for track\n",
    "        in tracks\n",
    "    ], dtype=float)\n",
    "\n",
    "\n",
    "# matches our bounding boxes with predictions\n",
    "def match_detections_with_tracks(\n",
    "    detections: Detections,\n",
    "    tracks: List[STrack]\n",
    ") -> Detections:\n",
    "    if not np.any(detections.xyxy) or len(tracks) == 0:\n",
    "        return np.empty((0,))\n",
    "\n",
    "    tracks_boxes = tracks2boxes(tracks=tracks)\n",
    "    iou = box_iou_batch(tracks_boxes, detections.xyxy)\n",
    "    track2detection = np.argmax(iou, axis=1)\n",
    "\n",
    "    tracker_ids = [None] * len(detections)\n",
    "\n",
    "    for tracker_index, detection_index in enumerate(track2detection):\n",
    "        if iou[tracker_index, detection_index] != 0:\n",
    "            tracker_ids[detection_index] = tracks[tracker_index].track_id\n",
    "\n",
    "    return tracker_ids"
   ],
   "metadata": {
    "id": "YucamNZvsPnM"
   },
   "execution_count": 29,
   "outputs": []
  },
  {
   "cell_type": "code",
   "source": [
    "from supervision.draw.color import ColorPalette, Color\n",
    "from supervision.geometry.dataclasses import Point\n",
    "from supervision.video.dataclasses import VideoInfo\n",
    "from supervision.video.source import get_video_frames_generator\n",
    "from supervision.video.sink import VideoSink\n",
    "from supervision.notebook.utils import show_frame_in_notebook\n",
    "from supervision.tools.detections import Detections, BoxAnnotator\n",
    "from supervision.tools.line_counter import LineCounter, LineCounterAnnotator\n",
    "\n",
    "from tqdm.notebook import tqdm\n",
    "\n",
    "@dataclass(frozen=True)\n",
    "class BYTETrackerArgs:\n",
    "  track_thresh: float = 0.25\n",
    "  track_buffer: int = 900\n",
    "  match_thresh: float = 0.8\n",
    "  aspect_ratio_thresh:float = 3.0\n",
    "  min_box_area: float = 1.0\n",
    "  mot20: bool = False\n",
    "\n",
    "byte_tracker = BYTETracker(BYTETrackerArgs())\n",
    "\n",
    "generator = get_video_frames_generator(SOURCE_VIDEO_PATH)\n",
    "box_annotator = BoxAnnotator(color=HEAD_COLOR, thickness=2, text_thickness=1, text_scale=1)\n",
    "\n",
    "video_info = VideoInfo.from_video_path(SOURCE_VIDEO_PATH)\n",
    "\n",
    "with VideoSink(TARGET_VIDEO_PATH, video_info) as sink:\n",
    "  for frame in tqdm(generator, total=video_info.total_frames):\n",
    "    results = model(frame)[0]\n",
    "\n",
    "    detections = Detections(\n",
    "      xyxy=results.boxes.xyxy.cpu().numpy(),\n",
    "      confidence=results.boxes.conf.cpu().numpy(),\n",
    "      class_id=results.boxes.cls.cpu().numpy().astype(int)\n",
    "    )\n",
    "\n",
    "    tracks = byte_tracker.update(\n",
    "        output_results = detections2boxes(detections=detections),\n",
    "        img_info=frame.shape,\n",
    "        img_size=frame.shape\n",
    "    )\n",
    "\n",
    "    tracker_id = match_detections_with_tracks(detections=detections, tracks=tracks)\n",
    "\n",
    "    detections.tracker_id = np.array(tracker_id)\n",
    "\n",
    "    labels = [\n",
    "      f\"#{tracker_id}\"\n",
    "      for _, confidence, class_id, tracker_id\n",
    "      in detections\n",
    "    ]\n",
    "\n",
    "    frame = box_annotator.annotate(frame=frame, detections=detections, labels=labels)\n",
    "\n",
    "    sink.write_frame(frame)"
   ],
   "metadata": {
    "id": "tr-M3PpMdKtI"
   },
   "execution_count": null,
   "outputs": []
  },
  {
   "cell_type": "code",
   "source": [
    "!cp /content/Tracker/result.mp4 /content/drive/MyDrive/Original/result/"
   ],
   "metadata": {
    "id": "m51gN_AzYA2c"
   },
   "execution_count": 33,
   "outputs": []
  },
  {
   "cell_type": "code",
   "source": [
    "from google.colab import files\n",
    "files.download('/content/Tracker/result.mp4')"
   ],
   "metadata": {
    "id": "RWpb9PmOrH80"
   },
   "execution_count": null,
   "outputs": []
  },
  {
   "cell_type": "code",
   "source": [],
   "metadata": {
    "id": "VNQvkjrpY-w-"
   },
   "execution_count": null,
   "outputs": []
  }
 ]
}
